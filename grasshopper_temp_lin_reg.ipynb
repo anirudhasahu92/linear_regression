{
 "cells": [
  {
   "cell_type": "code",
   "execution_count": null,
   "id": "9c0506ff",
   "metadata": {},
   "outputs": [],
   "source": [
    "# About Dataset\n",
    "# Context\n",
    "# Different cricket species produce different types of sounds. For instance, in Gryllus bimaculatus (field cricket), the \n",
    "# chirping sounds can reach up to 100 decibels, while Gryllotalpa vineae (mole cricket) chirps at about 88 decibels. For \n",
    "# comparison, a car’s horn reaches about 110 decibels, and referee whistles can be approximately 115–125 decibels.\n",
    "\n",
    "# Male crickets produce sounds by rubbing their leathery front wings together, i.e., file-like serrations on the wings’ edges \n",
    "# rub against a sharp edge (scraper). This is called “stridulation” and is used to attract female crickets as mates. When this \n",
    "# sound is being produced, the cricket’s wings are elevated. Each time the wings rub together, this is called a “pulse” and the\n",
    "# pulse rate is impacted by factors such as temperature, e.g., faster rate during warmer temperatures. Pulse rate and the pattern\n",
    "# of the pulses also differ between cricket species.\n",
    "\n",
    "\n",
    "# The major features are Time, Chirps_15s (Chirps count in 15 seconds) and Temp_C (Temperature(C°) at the time of chirps)"
   ]
  },
  {
   "cell_type": "code",
   "execution_count": 1,
   "id": "4907feb9",
   "metadata": {},
   "outputs": [],
   "source": [
    "import numpy as np\n",
    "import pandas as pd\n",
    "import matplotlib.pyplot as plt\n",
    "import seaborn as sns\n",
    "import warnings\n",
    "warnings.filterwarnings(\"ignore\")"
   ]
  },
  {
   "cell_type": "code",
   "execution_count": 2,
   "id": "e5110d16",
   "metadata": {},
   "outputs": [
    {
     "data": {
      "text/html": [
       "<div>\n",
       "<style scoped>\n",
       "    .dataframe tbody tr th:only-of-type {\n",
       "        vertical-align: middle;\n",
       "    }\n",
       "\n",
       "    .dataframe tbody tr th {\n",
       "        vertical-align: top;\n",
       "    }\n",
       "\n",
       "    .dataframe thead th {\n",
       "        text-align: right;\n",
       "    }\n",
       "</style>\n",
       "<table border=\"1\" class=\"dataframe\">\n",
       "  <thead>\n",
       "    <tr style=\"text-align: right;\">\n",
       "      <th></th>\n",
       "      <th>X</th>\n",
       "      <th>Y</th>\n",
       "    </tr>\n",
       "  </thead>\n",
       "  <tbody>\n",
       "    <tr>\n",
       "      <th>0</th>\n",
       "      <td>88.599998</td>\n",
       "      <td>19</td>\n",
       "    </tr>\n",
       "    <tr>\n",
       "      <th>1</th>\n",
       "      <td>71.599998</td>\n",
       "      <td>16</td>\n",
       "    </tr>\n",
       "    <tr>\n",
       "      <th>2</th>\n",
       "      <td>93.300003</td>\n",
       "      <td>22</td>\n",
       "    </tr>\n",
       "    <tr>\n",
       "      <th>3</th>\n",
       "      <td>84.300003</td>\n",
       "      <td>17</td>\n",
       "    </tr>\n",
       "    <tr>\n",
       "      <th>4</th>\n",
       "      <td>80.599998</td>\n",
       "      <td>19</td>\n",
       "    </tr>\n",
       "    <tr>\n",
       "      <th>...</th>\n",
       "      <td>...</td>\n",
       "      <td>...</td>\n",
       "    </tr>\n",
       "    <tr>\n",
       "      <th>1494</th>\n",
       "      <td>81.000000</td>\n",
       "      <td>17</td>\n",
       "    </tr>\n",
       "    <tr>\n",
       "      <th>1495</th>\n",
       "      <td>81.000000</td>\n",
       "      <td>17</td>\n",
       "    </tr>\n",
       "    <tr>\n",
       "      <th>1496</th>\n",
       "      <td>86.000000</td>\n",
       "      <td>17</td>\n",
       "    </tr>\n",
       "    <tr>\n",
       "      <th>1497</th>\n",
       "      <td>83.000000</td>\n",
       "      <td>20</td>\n",
       "    </tr>\n",
       "    <tr>\n",
       "      <th>1498</th>\n",
       "      <td>72.000000</td>\n",
       "      <td>16</td>\n",
       "    </tr>\n",
       "  </tbody>\n",
       "</table>\n",
       "<p>1499 rows × 2 columns</p>\n",
       "</div>"
      ],
      "text/plain": [
       "              X   Y\n",
       "0     88.599998  19\n",
       "1     71.599998  16\n",
       "2     93.300003  22\n",
       "3     84.300003  17\n",
       "4     80.599998  19\n",
       "...         ...  ..\n",
       "1494  81.000000  17\n",
       "1495  81.000000  17\n",
       "1496  86.000000  17\n",
       "1497  83.000000  20\n",
       "1498  72.000000  16\n",
       "\n",
       "[1499 rows x 2 columns]"
      ]
     },
     "execution_count": 2,
     "metadata": {},
     "output_type": "execute_result"
    }
   ],
   "source": [
    "df = pd.read_csv('Cricket_chirps.csv')\n",
    "df"
   ]
  },
  {
   "cell_type": "code",
   "execution_count": 3,
   "id": "460104c1",
   "metadata": {},
   "outputs": [],
   "source": [
    "# x : number of chirps in 15 seconds and y: Temp ( degree celcius)"
   ]
  },
  {
   "cell_type": "code",
   "execution_count": 4,
   "id": "fb99f74e",
   "metadata": {},
   "outputs": [
    {
     "data": {
      "text/plain": [
       "(1499, 2)"
      ]
     },
     "execution_count": 4,
     "metadata": {},
     "output_type": "execute_result"
    }
   ],
   "source": [
    "df.shape"
   ]
  },
  {
   "cell_type": "code",
   "execution_count": 5,
   "id": "577101cb",
   "metadata": {
    "scrolled": true
   },
   "outputs": [
    {
     "name": "stdout",
     "output_type": "stream",
     "text": [
      "<class 'pandas.core.frame.DataFrame'>\n",
      "RangeIndex: 1499 entries, 0 to 1498\n",
      "Data columns (total 2 columns):\n",
      " #   Column  Non-Null Count  Dtype  \n",
      "---  ------  --------------  -----  \n",
      " 0   X       1499 non-null   float64\n",
      " 1   Y       1499 non-null   int64  \n",
      "dtypes: float64(1), int64(1)\n",
      "memory usage: 23.6 KB\n"
     ]
    }
   ],
   "source": [
    "df.info()"
   ]
  },
  {
   "cell_type": "code",
   "execution_count": 6,
   "id": "5006df24",
   "metadata": {},
   "outputs": [],
   "source": [
    "# no null vallues as we can see from the above"
   ]
  },
  {
   "cell_type": "code",
   "execution_count": 14,
   "id": "b624ab16",
   "metadata": {},
   "outputs": [],
   "source": [
    "x = df['X'].values.reshape(-1,1)\n",
    "y = df['Y']"
   ]
  },
  {
   "cell_type": "code",
   "execution_count": 16,
   "id": "69076da8",
   "metadata": {},
   "outputs": [],
   "source": [
    "# Lets create the linear regression model:\n",
    "# step 1 : splitting the data into train and test:\n",
    "from sklearn.model_selection import train_test_split\n",
    "x_train,x_test,y_train,y_test = train_test_split(x,y,train_size=0.8,random_state=42)"
   ]
  },
  {
   "cell_type": "code",
   "execution_count": 17,
   "id": "b60631d7",
   "metadata": {
    "scrolled": true
   },
   "outputs": [
    {
     "data": {
      "text/html": [
       "<style>#sk-container-id-1 {color: black;background-color: white;}#sk-container-id-1 pre{padding: 0;}#sk-container-id-1 div.sk-toggleable {background-color: white;}#sk-container-id-1 label.sk-toggleable__label {cursor: pointer;display: block;width: 100%;margin-bottom: 0;padding: 0.3em;box-sizing: border-box;text-align: center;}#sk-container-id-1 label.sk-toggleable__label-arrow:before {content: \"▸\";float: left;margin-right: 0.25em;color: #696969;}#sk-container-id-1 label.sk-toggleable__label-arrow:hover:before {color: black;}#sk-container-id-1 div.sk-estimator:hover label.sk-toggleable__label-arrow:before {color: black;}#sk-container-id-1 div.sk-toggleable__content {max-height: 0;max-width: 0;overflow: hidden;text-align: left;background-color: #f0f8ff;}#sk-container-id-1 div.sk-toggleable__content pre {margin: 0.2em;color: black;border-radius: 0.25em;background-color: #f0f8ff;}#sk-container-id-1 input.sk-toggleable__control:checked~div.sk-toggleable__content {max-height: 200px;max-width: 100%;overflow: auto;}#sk-container-id-1 input.sk-toggleable__control:checked~label.sk-toggleable__label-arrow:before {content: \"▾\";}#sk-container-id-1 div.sk-estimator input.sk-toggleable__control:checked~label.sk-toggleable__label {background-color: #d4ebff;}#sk-container-id-1 div.sk-label input.sk-toggleable__control:checked~label.sk-toggleable__label {background-color: #d4ebff;}#sk-container-id-1 input.sk-hidden--visually {border: 0;clip: rect(1px 1px 1px 1px);clip: rect(1px, 1px, 1px, 1px);height: 1px;margin: -1px;overflow: hidden;padding: 0;position: absolute;width: 1px;}#sk-container-id-1 div.sk-estimator {font-family: monospace;background-color: #f0f8ff;border: 1px dotted black;border-radius: 0.25em;box-sizing: border-box;margin-bottom: 0.5em;}#sk-container-id-1 div.sk-estimator:hover {background-color: #d4ebff;}#sk-container-id-1 div.sk-parallel-item::after {content: \"\";width: 100%;border-bottom: 1px solid gray;flex-grow: 1;}#sk-container-id-1 div.sk-label:hover label.sk-toggleable__label {background-color: #d4ebff;}#sk-container-id-1 div.sk-serial::before {content: \"\";position: absolute;border-left: 1px solid gray;box-sizing: border-box;top: 0;bottom: 0;left: 50%;z-index: 0;}#sk-container-id-1 div.sk-serial {display: flex;flex-direction: column;align-items: center;background-color: white;padding-right: 0.2em;padding-left: 0.2em;position: relative;}#sk-container-id-1 div.sk-item {position: relative;z-index: 1;}#sk-container-id-1 div.sk-parallel {display: flex;align-items: stretch;justify-content: center;background-color: white;position: relative;}#sk-container-id-1 div.sk-item::before, #sk-container-id-1 div.sk-parallel-item::before {content: \"\";position: absolute;border-left: 1px solid gray;box-sizing: border-box;top: 0;bottom: 0;left: 50%;z-index: -1;}#sk-container-id-1 div.sk-parallel-item {display: flex;flex-direction: column;z-index: 1;position: relative;background-color: white;}#sk-container-id-1 div.sk-parallel-item:first-child::after {align-self: flex-end;width: 50%;}#sk-container-id-1 div.sk-parallel-item:last-child::after {align-self: flex-start;width: 50%;}#sk-container-id-1 div.sk-parallel-item:only-child::after {width: 0;}#sk-container-id-1 div.sk-dashed-wrapped {border: 1px dashed gray;margin: 0 0.4em 0.5em 0.4em;box-sizing: border-box;padding-bottom: 0.4em;background-color: white;}#sk-container-id-1 div.sk-label label {font-family: monospace;font-weight: bold;display: inline-block;line-height: 1.2em;}#sk-container-id-1 div.sk-label-container {text-align: center;}#sk-container-id-1 div.sk-container {/* jupyter's `normalize.less` sets `[hidden] { display: none; }` but bootstrap.min.css set `[hidden] { display: none !important; }` so we also need the `!important` here to be able to override the default hidden behavior on the sphinx rendered scikit-learn.org. See: https://github.com/scikit-learn/scikit-learn/issues/21755 */display: inline-block !important;position: relative;}#sk-container-id-1 div.sk-text-repr-fallback {display: none;}</style><div id=\"sk-container-id-1\" class=\"sk-top-container\"><div class=\"sk-text-repr-fallback\"><pre>LinearRegression()</pre><b>In a Jupyter environment, please rerun this cell to show the HTML representation or trust the notebook. <br />On GitHub, the HTML representation is unable to render, please try loading this page with nbviewer.org.</b></div><div class=\"sk-container\" hidden><div class=\"sk-item\"><div class=\"sk-estimator sk-toggleable\"><input class=\"sk-toggleable__control sk-hidden--visually\" id=\"sk-estimator-id-1\" type=\"checkbox\" checked><label for=\"sk-estimator-id-1\" class=\"sk-toggleable__label sk-toggleable__label-arrow\">LinearRegression</label><div class=\"sk-toggleable__content\"><pre>LinearRegression()</pre></div></div></div></div></div>"
      ],
      "text/plain": [
       "LinearRegression()"
      ]
     },
     "execution_count": 17,
     "metadata": {},
     "output_type": "execute_result"
    }
   ],
   "source": [
    "from sklearn.linear_model import LinearRegression\n",
    "lr = LinearRegression()\n",
    "lr.fit(x_train,y_train)"
   ]
  },
  {
   "cell_type": "code",
   "execution_count": 20,
   "id": "4ba36e7c",
   "metadata": {},
   "outputs": [],
   "source": [
    "y_pred = lr.predict(x_test)"
   ]
  },
  {
   "cell_type": "code",
   "execution_count": 21,
   "id": "e74393ae",
   "metadata": {},
   "outputs": [
    {
     "data": {
      "text/plain": [
       "array([18.48310996, 17.07575518, 18.17036445, 18.63948271, 18.17036445,\n",
       "       17.38850068, 19.10860097, 18.3267372 , 17.70124619, 16.13751866,\n",
       "       17.85761894, 18.0139917 , 18.95222822, 15.35565489, 16.29389141,\n",
       "       17.07575518, 18.17036445, 18.79585546, 17.23212793, 15.9811459 ,\n",
       "       15.51202764, 19.26497372, 17.07575518, 15.6684004 , 17.85761894,\n",
       "       16.91938242, 18.95222822, 18.3267372 , 18.17036445, 15.04290938,\n",
       "       17.70124619, 19.10860097, 16.13751866, 17.70124619, 18.17036445,\n",
       "       17.54487344, 19.10860097, 16.91938242, 15.51202764, 18.48310996,\n",
       "       16.76300967, 15.9811459 , 16.45026416, 19.10860097, 18.17036445,\n",
       "       16.29389141, 18.3267372 , 17.54487344, 16.91938242, 18.17036445,\n",
       "       17.38850068, 18.0139917 , 16.45026416, 18.63948271, 19.42134648,\n",
       "       16.60663692, 15.6684004 , 18.0139917 , 15.82477315, 19.26497372,\n",
       "       17.85761894, 15.82477315, 17.23212793, 17.70124619, 15.04290938,\n",
       "       19.26497372, 15.35565489, 18.17036445, 18.0139917 , 15.82477315,\n",
       "       17.54487344, 15.82477315, 19.26497372, 18.79585546, 15.6684004 ,\n",
       "       17.85761894, 19.42134648, 18.17036445, 15.51202764, 15.19928214,\n",
       "       15.82477315, 17.85761894, 15.35565489, 19.10860097, 18.48310996,\n",
       "       18.0139917 , 16.29389141, 18.17036445, 16.60663692, 16.45026416,\n",
       "       18.79585546, 15.19928214, 18.48310996, 17.54487344, 17.07575518,\n",
       "       18.3267372 , 18.63948271, 18.3267372 , 17.85761894, 17.70124619,\n",
       "       16.45026416, 15.19928214, 16.76300967, 15.9811459 , 17.23212793,\n",
       "       16.76300967, 18.63948271, 15.6684004 , 15.6684004 , 18.17036445,\n",
       "       15.9811459 , 15.35565489, 17.70124619, 15.51202764, 15.19928214,\n",
       "       18.63948271, 15.6684004 , 15.6684004 , 18.63948271, 17.38850068,\n",
       "       18.63948271, 18.79585546, 18.3267372 , 15.6684004 , 16.60663692,\n",
       "       15.6684004 , 18.63948271, 17.70124619, 17.70124619, 19.42134648,\n",
       "       17.38850068, 18.79585546, 18.17036445, 18.79585546, 15.35565489,\n",
       "       15.04290938, 16.45026416, 15.6684004 , 18.79585546, 19.10860097,\n",
       "       17.23212793, 16.45026416, 16.60663692, 18.17036445, 15.82477315,\n",
       "       19.26497372, 18.79585546, 19.42134648, 17.85761894, 16.91938242,\n",
       "       16.91938242, 16.76300967, 17.23212793, 18.95222822, 18.17036445,\n",
       "       17.07575518, 19.10860097, 18.48310996, 18.3267372 , 17.54487344,\n",
       "       18.17036445, 15.82477315, 15.35565489, 17.54487344, 15.6684004 ,\n",
       "       17.54487344, 17.07575518, 15.51202764, 18.0139917 , 15.04290938,\n",
       "       15.51202764, 17.70124619, 16.45026416, 16.29389141, 17.54487344,\n",
       "       18.0139917 , 18.17036445, 19.42134648, 16.45026416, 15.35565489,\n",
       "       19.10860097, 15.6684004 , 15.6684004 , 18.0139917 , 17.38850068,\n",
       "       16.45026416, 15.82477315, 16.60663692, 15.35565489, 17.38850068,\n",
       "       16.91938242, 17.54487344, 16.76300967, 17.54487344, 15.82477315,\n",
       "       17.70124619, 18.48310996, 17.23212793, 15.35565489, 18.0139917 ,\n",
       "       16.76300967, 18.63948271, 15.6684004 , 15.04290938, 15.35565489,\n",
       "       19.42134648, 17.07575518, 18.63948271, 16.45026416, 19.26497372,\n",
       "       15.35565489, 15.6684004 , 16.60663692, 15.6684004 , 15.6684004 ,\n",
       "       17.07575518, 17.38850068, 18.95222822, 17.85761894, 18.0139917 ,\n",
       "       18.0139917 , 16.45026416, 17.07575518, 16.45026416, 15.04290938,\n",
       "       17.85761894, 19.26497372, 18.3267372 , 17.07575518, 16.91938242,\n",
       "       18.63948271, 15.6684004 , 15.35565489, 16.45026416, 18.95222822,\n",
       "       18.63948271, 19.10860097, 18.79585546, 19.10860097, 18.0139917 ,\n",
       "       15.19928214, 16.91938242, 17.70124619, 18.48310996, 17.70124619,\n",
       "       16.29389141, 18.17036445, 15.9811459 , 17.85761894, 17.38850068,\n",
       "       17.54487344, 18.3267372 , 19.42134648, 17.70124619, 16.76300967,\n",
       "       16.91938242, 15.9811459 , 15.35565489, 15.6684004 , 18.17036445,\n",
       "       18.63948271, 16.45026416, 18.3267372 , 17.54487344, 17.07575518,\n",
       "       16.60663692, 16.60663692, 15.35565489, 18.79585546, 19.10860097,\n",
       "       18.0139917 , 19.10860097, 15.19928214, 18.63948271, 18.95222822,\n",
       "       17.85761894, 18.17036445, 18.0139917 , 18.17036445, 19.42134648,\n",
       "       16.45026416, 18.0139917 , 16.45026416, 17.23212793, 17.07575518,\n",
       "       18.63948271, 18.3267372 , 18.95222822, 17.70124619, 18.79585546,\n",
       "       19.42134648, 19.10860097, 19.10860097, 17.07575518, 16.76300967,\n",
       "       19.10860097, 16.29389141, 15.51202764, 18.3267372 , 15.35565489])"
      ]
     },
     "execution_count": 21,
     "metadata": {},
     "output_type": "execute_result"
    }
   ],
   "source": [
    "y_pred"
   ]
  },
  {
   "cell_type": "code",
   "execution_count": 22,
   "id": "83dbb9fa",
   "metadata": {
    "scrolled": false
   },
   "outputs": [
    {
     "data": {
      "text/plain": [
       "1116    20\n",
       "1395    17\n",
       "422     17\n",
       "413     21\n",
       "451     18\n",
       "        ..\n",
       "983     19\n",
       "799     17\n",
       "1353    17\n",
       "1149    18\n",
       "824     15\n",
       "Name: Y, Length: 300, dtype: int64"
      ]
     },
     "execution_count": 22,
     "metadata": {},
     "output_type": "execute_result"
    }
   ],
   "source": [
    "y_test"
   ]
  },
  {
   "cell_type": "code",
   "execution_count": 25,
   "id": "45bf90f2",
   "metadata": {},
   "outputs": [
    {
     "data": {
      "text/html": [
       "<div>\n",
       "<style scoped>\n",
       "    .dataframe tbody tr th:only-of-type {\n",
       "        vertical-align: middle;\n",
       "    }\n",
       "\n",
       "    .dataframe tbody tr th {\n",
       "        vertical-align: top;\n",
       "    }\n",
       "\n",
       "    .dataframe thead th {\n",
       "        text-align: right;\n",
       "    }\n",
       "</style>\n",
       "<table border=\"1\" class=\"dataframe\">\n",
       "  <thead>\n",
       "    <tr style=\"text-align: right;\">\n",
       "      <th></th>\n",
       "      <th>y_test</th>\n",
       "      <th>y_pred</th>\n",
       "    </tr>\n",
       "  </thead>\n",
       "  <tbody>\n",
       "    <tr>\n",
       "      <th>1116</th>\n",
       "      <td>20</td>\n",
       "      <td>18.483110</td>\n",
       "    </tr>\n",
       "    <tr>\n",
       "      <th>1395</th>\n",
       "      <td>17</td>\n",
       "      <td>17.075755</td>\n",
       "    </tr>\n",
       "    <tr>\n",
       "      <th>422</th>\n",
       "      <td>17</td>\n",
       "      <td>18.170364</td>\n",
       "    </tr>\n",
       "    <tr>\n",
       "      <th>413</th>\n",
       "      <td>21</td>\n",
       "      <td>18.639483</td>\n",
       "    </tr>\n",
       "    <tr>\n",
       "      <th>451</th>\n",
       "      <td>18</td>\n",
       "      <td>18.170364</td>\n",
       "    </tr>\n",
       "    <tr>\n",
       "      <th>861</th>\n",
       "      <td>16</td>\n",
       "      <td>17.388501</td>\n",
       "    </tr>\n",
       "    <tr>\n",
       "      <th>1063</th>\n",
       "      <td>19</td>\n",
       "      <td>19.108601</td>\n",
       "    </tr>\n",
       "    <tr>\n",
       "      <th>741</th>\n",
       "      <td>19</td>\n",
       "      <td>18.326737</td>\n",
       "    </tr>\n",
       "    <tr>\n",
       "      <th>1271</th>\n",
       "      <td>18</td>\n",
       "      <td>17.701246</td>\n",
       "    </tr>\n",
       "    <tr>\n",
       "      <th>259</th>\n",
       "      <td>17</td>\n",
       "      <td>16.137519</td>\n",
       "    </tr>\n",
       "    <tr>\n",
       "      <th>888</th>\n",
       "      <td>17</td>\n",
       "      <td>17.857619</td>\n",
       "    </tr>\n",
       "    <tr>\n",
       "      <th>1431</th>\n",
       "      <td>19</td>\n",
       "      <td>18.013992</td>\n",
       "    </tr>\n",
       "    <tr>\n",
       "      <th>712</th>\n",
       "      <td>17</td>\n",
       "      <td>18.952228</td>\n",
       "    </tr>\n",
       "    <tr>\n",
       "      <th>1381</th>\n",
       "      <td>15</td>\n",
       "      <td>15.355655</td>\n",
       "    </tr>\n",
       "    <tr>\n",
       "      <th>70</th>\n",
       "      <td>16</td>\n",
       "      <td>16.293891</td>\n",
       "    </tr>\n",
       "    <tr>\n",
       "      <th>1455</th>\n",
       "      <td>17</td>\n",
       "      <td>17.075755</td>\n",
       "    </tr>\n",
       "    <tr>\n",
       "      <th>1490</th>\n",
       "      <td>18</td>\n",
       "      <td>18.170364</td>\n",
       "    </tr>\n",
       "    <tr>\n",
       "      <th>607</th>\n",
       "      <td>18</td>\n",
       "      <td>18.795855</td>\n",
       "    </tr>\n",
       "    <tr>\n",
       "      <th>433</th>\n",
       "      <td>16</td>\n",
       "      <td>17.232128</td>\n",
       "    </tr>\n",
       "    <tr>\n",
       "      <th>51</th>\n",
       "      <td>15</td>\n",
       "      <td>15.981146</td>\n",
       "    </tr>\n",
       "  </tbody>\n",
       "</table>\n",
       "</div>"
      ],
      "text/plain": [
       "      y_test     y_pred\n",
       "1116      20  18.483110\n",
       "1395      17  17.075755\n",
       "422       17  18.170364\n",
       "413       21  18.639483\n",
       "451       18  18.170364\n",
       "861       16  17.388501\n",
       "1063      19  19.108601\n",
       "741       19  18.326737\n",
       "1271      18  17.701246\n",
       "259       17  16.137519\n",
       "888       17  17.857619\n",
       "1431      19  18.013992\n",
       "712       17  18.952228\n",
       "1381      15  15.355655\n",
       "70        16  16.293891\n",
       "1455      17  17.075755\n",
       "1490      18  18.170364\n",
       "607       18  18.795855\n",
       "433       16  17.232128\n",
       "51        15  15.981146"
      ]
     },
     "execution_count": 25,
     "metadata": {},
     "output_type": "execute_result"
    }
   ],
   "source": [
    "df_pred = pd.DataFrame({'y_test': y_test, 'y_pred': y_pred})\n",
    "df_pred.head(20)"
   ]
  },
  {
   "cell_type": "code",
   "execution_count": 27,
   "id": "c6099d1b",
   "metadata": {
    "scrolled": true
   },
   "outputs": [
    {
     "data": {
      "text/plain": [
       "0.5309933656482937"
      ]
     },
     "execution_count": 27,
     "metadata": {},
     "output_type": "execute_result"
    }
   ],
   "source": [
    "from sklearn.metrics import r2_score\n",
    "r2score = r2_score(y_test,y_pred)\n",
    "r2score"
   ]
  },
  {
   "cell_type": "code",
   "execution_count": 36,
   "id": "71ac261d",
   "metadata": {},
   "outputs": [
    {
     "data": {
      "text/html": [
       "<style>#sk-container-id-3 {color: black;background-color: white;}#sk-container-id-3 pre{padding: 0;}#sk-container-id-3 div.sk-toggleable {background-color: white;}#sk-container-id-3 label.sk-toggleable__label {cursor: pointer;display: block;width: 100%;margin-bottom: 0;padding: 0.3em;box-sizing: border-box;text-align: center;}#sk-container-id-3 label.sk-toggleable__label-arrow:before {content: \"▸\";float: left;margin-right: 0.25em;color: #696969;}#sk-container-id-3 label.sk-toggleable__label-arrow:hover:before {color: black;}#sk-container-id-3 div.sk-estimator:hover label.sk-toggleable__label-arrow:before {color: black;}#sk-container-id-3 div.sk-toggleable__content {max-height: 0;max-width: 0;overflow: hidden;text-align: left;background-color: #f0f8ff;}#sk-container-id-3 div.sk-toggleable__content pre {margin: 0.2em;color: black;border-radius: 0.25em;background-color: #f0f8ff;}#sk-container-id-3 input.sk-toggleable__control:checked~div.sk-toggleable__content {max-height: 200px;max-width: 100%;overflow: auto;}#sk-container-id-3 input.sk-toggleable__control:checked~label.sk-toggleable__label-arrow:before {content: \"▾\";}#sk-container-id-3 div.sk-estimator input.sk-toggleable__control:checked~label.sk-toggleable__label {background-color: #d4ebff;}#sk-container-id-3 div.sk-label input.sk-toggleable__control:checked~label.sk-toggleable__label {background-color: #d4ebff;}#sk-container-id-3 input.sk-hidden--visually {border: 0;clip: rect(1px 1px 1px 1px);clip: rect(1px, 1px, 1px, 1px);height: 1px;margin: -1px;overflow: hidden;padding: 0;position: absolute;width: 1px;}#sk-container-id-3 div.sk-estimator {font-family: monospace;background-color: #f0f8ff;border: 1px dotted black;border-radius: 0.25em;box-sizing: border-box;margin-bottom: 0.5em;}#sk-container-id-3 div.sk-estimator:hover {background-color: #d4ebff;}#sk-container-id-3 div.sk-parallel-item::after {content: \"\";width: 100%;border-bottom: 1px solid gray;flex-grow: 1;}#sk-container-id-3 div.sk-label:hover label.sk-toggleable__label {background-color: #d4ebff;}#sk-container-id-3 div.sk-serial::before {content: \"\";position: absolute;border-left: 1px solid gray;box-sizing: border-box;top: 0;bottom: 0;left: 50%;z-index: 0;}#sk-container-id-3 div.sk-serial {display: flex;flex-direction: column;align-items: center;background-color: white;padding-right: 0.2em;padding-left: 0.2em;position: relative;}#sk-container-id-3 div.sk-item {position: relative;z-index: 1;}#sk-container-id-3 div.sk-parallel {display: flex;align-items: stretch;justify-content: center;background-color: white;position: relative;}#sk-container-id-3 div.sk-item::before, #sk-container-id-3 div.sk-parallel-item::before {content: \"\";position: absolute;border-left: 1px solid gray;box-sizing: border-box;top: 0;bottom: 0;left: 50%;z-index: -1;}#sk-container-id-3 div.sk-parallel-item {display: flex;flex-direction: column;z-index: 1;position: relative;background-color: white;}#sk-container-id-3 div.sk-parallel-item:first-child::after {align-self: flex-end;width: 50%;}#sk-container-id-3 div.sk-parallel-item:last-child::after {align-self: flex-start;width: 50%;}#sk-container-id-3 div.sk-parallel-item:only-child::after {width: 0;}#sk-container-id-3 div.sk-dashed-wrapped {border: 1px dashed gray;margin: 0 0.4em 0.5em 0.4em;box-sizing: border-box;padding-bottom: 0.4em;background-color: white;}#sk-container-id-3 div.sk-label label {font-family: monospace;font-weight: bold;display: inline-block;line-height: 1.2em;}#sk-container-id-3 div.sk-label-container {text-align: center;}#sk-container-id-3 div.sk-container {/* jupyter's `normalize.less` sets `[hidden] { display: none; }` but bootstrap.min.css set `[hidden] { display: none !important; }` so we also need the `!important` here to be able to override the default hidden behavior on the sphinx rendered scikit-learn.org. See: https://github.com/scikit-learn/scikit-learn/issues/21755 */display: inline-block !important;position: relative;}#sk-container-id-3 div.sk-text-repr-fallback {display: none;}</style><div id=\"sk-container-id-3\" class=\"sk-top-container\"><div class=\"sk-text-repr-fallback\"><pre>DecisionTreeRegressor(max_depth=4)</pre><b>In a Jupyter environment, please rerun this cell to show the HTML representation or trust the notebook. <br />On GitHub, the HTML representation is unable to render, please try loading this page with nbviewer.org.</b></div><div class=\"sk-container\" hidden><div class=\"sk-item\"><div class=\"sk-estimator sk-toggleable\"><input class=\"sk-toggleable__control sk-hidden--visually\" id=\"sk-estimator-id-3\" type=\"checkbox\" checked><label for=\"sk-estimator-id-3\" class=\"sk-toggleable__label sk-toggleable__label-arrow\">DecisionTreeRegressor</label><div class=\"sk-toggleable__content\"><pre>DecisionTreeRegressor(max_depth=4)</pre></div></div></div></div></div>"
      ],
      "text/plain": [
       "DecisionTreeRegressor(max_depth=4)"
      ]
     },
     "execution_count": 36,
     "metadata": {},
     "output_type": "execute_result"
    }
   ],
   "source": [
    "from sklearn.tree import DecisionTreeRegressor\n",
    "dtr = DecisionTreeRegressor(max_depth=4)\n",
    "dtr.fit(x_train,y_train)"
   ]
  },
  {
   "cell_type": "code",
   "execution_count": 37,
   "id": "8fd4aa12",
   "metadata": {},
   "outputs": [],
   "source": [
    "dtr_y_pred = dtr.predict(x_test)"
   ]
  },
  {
   "cell_type": "code",
   "execution_count": 38,
   "id": "ddb5967c",
   "metadata": {
    "scrolled": false
   },
   "outputs": [
    {
     "data": {
      "text/plain": [
       "0.5719420118176819"
      ]
     },
     "execution_count": 38,
     "metadata": {},
     "output_type": "execute_result"
    }
   ],
   "source": [
    "r2sc = r2_score(y_test,dtr_y_pred)\n",
    "r2sc"
   ]
  },
  {
   "cell_type": "code",
   "execution_count": 39,
   "id": "e81438c8",
   "metadata": {
    "scrolled": true
   },
   "outputs": [
    {
     "name": "stdout",
     "output_type": "stream",
     "text": [
      "    max_depth   accuracy\n",
      "0         1.0  37.592456\n",
      "1         2.0  53.902065\n",
      "2         3.0  56.904240\n",
      "3         4.0  57.194201\n",
      "4         5.0  56.925442\n",
      "5         6.0  56.889813\n",
      "6         7.0  56.934158\n",
      "7         8.0  56.821185\n",
      "8         9.0  56.876148\n",
      "9        10.0  56.876148\n",
      "10       11.0  56.876148\n",
      "11       12.0  56.876148\n",
      "12       13.0  56.876148\n",
      "13       14.0  56.876148\n",
      "14       15.0  56.876148\n",
      "15       16.0  56.876148\n",
      "16       17.0  56.876148\n",
      "17       18.0  56.876148\n",
      "18       19.0  56.876148\n",
      "19       20.0  56.876148\n",
      "\n"
     ]
    }
   ],
   "source": [
    "# hyperparamter tuning:\n",
    "# checking the best parameter values:\n",
    "c_parm = 'max_depth'\n",
    "c_parm_val = list(range(1,21))\n",
    "dframe = pd.DataFrame(columns=[c_parm,'accuracy'])\n",
    "\n",
    "for input_parameter in c_parm_val:\n",
    "    dt = DecisionTreeRegressor(max_depth=input_parameter,splitter='best')\n",
    "    dt.fit(x_train,y_train) \n",
    "    y_pred = dt.predict(x_test) \n",
    "    r2score = r2_score(y_test,y_pred)*100\n",
    "    dframe = dframe.append({c_parm:input_parameter, 'accuracy':  r2score}, ignore_index=True) \n",
    "print(dframe)\n",
    "print('')"
   ]
  },
  {
   "cell_type": "code",
   "execution_count": 40,
   "id": "290b0de9",
   "metadata": {},
   "outputs": [],
   "source": [
    "# applied above based on the results."
   ]
  },
  {
   "cell_type": "code",
   "execution_count": 41,
   "id": "ad68c270",
   "metadata": {},
   "outputs": [],
   "source": [
    "# hyperparamter tuning:\n",
    "param_grid = {\n",
    "    'max_depth': [None, 5, 10, 15],  \n",
    "    'min_samples_split': [2, 5, 10],\n",
    "    'min_samples_leaf': [1, 2, 4]\n",
    "}"
   ]
  },
  {
   "cell_type": "code",
   "execution_count": 44,
   "id": "8e9df0d7",
   "metadata": {},
   "outputs": [],
   "source": [
    "# hyperparamter tuning:\n",
    "from sklearn.model_selection import GridSearchCV\n",
    "grid_search = GridSearchCV(dt, param_grid, cv=5, scoring='neg_mean_squared_error')"
   ]
  },
  {
   "cell_type": "code",
   "execution_count": 46,
   "id": "88d4cc9d",
   "metadata": {},
   "outputs": [
    {
     "data": {
      "text/html": [
       "<style>#sk-container-id-4 {color: black;background-color: white;}#sk-container-id-4 pre{padding: 0;}#sk-container-id-4 div.sk-toggleable {background-color: white;}#sk-container-id-4 label.sk-toggleable__label {cursor: pointer;display: block;width: 100%;margin-bottom: 0;padding: 0.3em;box-sizing: border-box;text-align: center;}#sk-container-id-4 label.sk-toggleable__label-arrow:before {content: \"▸\";float: left;margin-right: 0.25em;color: #696969;}#sk-container-id-4 label.sk-toggleable__label-arrow:hover:before {color: black;}#sk-container-id-4 div.sk-estimator:hover label.sk-toggleable__label-arrow:before {color: black;}#sk-container-id-4 div.sk-toggleable__content {max-height: 0;max-width: 0;overflow: hidden;text-align: left;background-color: #f0f8ff;}#sk-container-id-4 div.sk-toggleable__content pre {margin: 0.2em;color: black;border-radius: 0.25em;background-color: #f0f8ff;}#sk-container-id-4 input.sk-toggleable__control:checked~div.sk-toggleable__content {max-height: 200px;max-width: 100%;overflow: auto;}#sk-container-id-4 input.sk-toggleable__control:checked~label.sk-toggleable__label-arrow:before {content: \"▾\";}#sk-container-id-4 div.sk-estimator input.sk-toggleable__control:checked~label.sk-toggleable__label {background-color: #d4ebff;}#sk-container-id-4 div.sk-label input.sk-toggleable__control:checked~label.sk-toggleable__label {background-color: #d4ebff;}#sk-container-id-4 input.sk-hidden--visually {border: 0;clip: rect(1px 1px 1px 1px);clip: rect(1px, 1px, 1px, 1px);height: 1px;margin: -1px;overflow: hidden;padding: 0;position: absolute;width: 1px;}#sk-container-id-4 div.sk-estimator {font-family: monospace;background-color: #f0f8ff;border: 1px dotted black;border-radius: 0.25em;box-sizing: border-box;margin-bottom: 0.5em;}#sk-container-id-4 div.sk-estimator:hover {background-color: #d4ebff;}#sk-container-id-4 div.sk-parallel-item::after {content: \"\";width: 100%;border-bottom: 1px solid gray;flex-grow: 1;}#sk-container-id-4 div.sk-label:hover label.sk-toggleable__label {background-color: #d4ebff;}#sk-container-id-4 div.sk-serial::before {content: \"\";position: absolute;border-left: 1px solid gray;box-sizing: border-box;top: 0;bottom: 0;left: 50%;z-index: 0;}#sk-container-id-4 div.sk-serial {display: flex;flex-direction: column;align-items: center;background-color: white;padding-right: 0.2em;padding-left: 0.2em;position: relative;}#sk-container-id-4 div.sk-item {position: relative;z-index: 1;}#sk-container-id-4 div.sk-parallel {display: flex;align-items: stretch;justify-content: center;background-color: white;position: relative;}#sk-container-id-4 div.sk-item::before, #sk-container-id-4 div.sk-parallel-item::before {content: \"\";position: absolute;border-left: 1px solid gray;box-sizing: border-box;top: 0;bottom: 0;left: 50%;z-index: -1;}#sk-container-id-4 div.sk-parallel-item {display: flex;flex-direction: column;z-index: 1;position: relative;background-color: white;}#sk-container-id-4 div.sk-parallel-item:first-child::after {align-self: flex-end;width: 50%;}#sk-container-id-4 div.sk-parallel-item:last-child::after {align-self: flex-start;width: 50%;}#sk-container-id-4 div.sk-parallel-item:only-child::after {width: 0;}#sk-container-id-4 div.sk-dashed-wrapped {border: 1px dashed gray;margin: 0 0.4em 0.5em 0.4em;box-sizing: border-box;padding-bottom: 0.4em;background-color: white;}#sk-container-id-4 div.sk-label label {font-family: monospace;font-weight: bold;display: inline-block;line-height: 1.2em;}#sk-container-id-4 div.sk-label-container {text-align: center;}#sk-container-id-4 div.sk-container {/* jupyter's `normalize.less` sets `[hidden] { display: none; }` but bootstrap.min.css set `[hidden] { display: none !important; }` so we also need the `!important` here to be able to override the default hidden behavior on the sphinx rendered scikit-learn.org. See: https://github.com/scikit-learn/scikit-learn/issues/21755 */display: inline-block !important;position: relative;}#sk-container-id-4 div.sk-text-repr-fallback {display: none;}</style><div id=\"sk-container-id-4\" class=\"sk-top-container\"><div class=\"sk-text-repr-fallback\"><pre>GridSearchCV(cv=5, estimator=DecisionTreeRegressor(max_depth=20),\n",
       "             param_grid={&#x27;max_depth&#x27;: [None, 5, 10, 15],\n",
       "                         &#x27;min_samples_leaf&#x27;: [1, 2, 4],\n",
       "                         &#x27;min_samples_split&#x27;: [2, 5, 10]},\n",
       "             scoring=&#x27;neg_mean_squared_error&#x27;)</pre><b>In a Jupyter environment, please rerun this cell to show the HTML representation or trust the notebook. <br />On GitHub, the HTML representation is unable to render, please try loading this page with nbviewer.org.</b></div><div class=\"sk-container\" hidden><div class=\"sk-item sk-dashed-wrapped\"><div class=\"sk-label-container\"><div class=\"sk-label sk-toggleable\"><input class=\"sk-toggleable__control sk-hidden--visually\" id=\"sk-estimator-id-4\" type=\"checkbox\" ><label for=\"sk-estimator-id-4\" class=\"sk-toggleable__label sk-toggleable__label-arrow\">GridSearchCV</label><div class=\"sk-toggleable__content\"><pre>GridSearchCV(cv=5, estimator=DecisionTreeRegressor(max_depth=20),\n",
       "             param_grid={&#x27;max_depth&#x27;: [None, 5, 10, 15],\n",
       "                         &#x27;min_samples_leaf&#x27;: [1, 2, 4],\n",
       "                         &#x27;min_samples_split&#x27;: [2, 5, 10]},\n",
       "             scoring=&#x27;neg_mean_squared_error&#x27;)</pre></div></div></div><div class=\"sk-parallel\"><div class=\"sk-parallel-item\"><div class=\"sk-item\"><div class=\"sk-label-container\"><div class=\"sk-label sk-toggleable\"><input class=\"sk-toggleable__control sk-hidden--visually\" id=\"sk-estimator-id-5\" type=\"checkbox\" ><label for=\"sk-estimator-id-5\" class=\"sk-toggleable__label sk-toggleable__label-arrow\">estimator: DecisionTreeRegressor</label><div class=\"sk-toggleable__content\"><pre>DecisionTreeRegressor(max_depth=20)</pre></div></div></div><div class=\"sk-serial\"><div class=\"sk-item\"><div class=\"sk-estimator sk-toggleable\"><input class=\"sk-toggleable__control sk-hidden--visually\" id=\"sk-estimator-id-6\" type=\"checkbox\" ><label for=\"sk-estimator-id-6\" class=\"sk-toggleable__label sk-toggleable__label-arrow\">DecisionTreeRegressor</label><div class=\"sk-toggleable__content\"><pre>DecisionTreeRegressor(max_depth=20)</pre></div></div></div></div></div></div></div></div></div></div>"
      ],
      "text/plain": [
       "GridSearchCV(cv=5, estimator=DecisionTreeRegressor(max_depth=20),\n",
       "             param_grid={'max_depth': [None, 5, 10, 15],\n",
       "                         'min_samples_leaf': [1, 2, 4],\n",
       "                         'min_samples_split': [2, 5, 10]},\n",
       "             scoring='neg_mean_squared_error')"
      ]
     },
     "execution_count": 46,
     "metadata": {},
     "output_type": "execute_result"
    }
   ],
   "source": [
    "grid_search.fit(x_train, y_train)"
   ]
  },
  {
   "cell_type": "code",
   "execution_count": 47,
   "id": "3a3276dc",
   "metadata": {},
   "outputs": [
    {
     "name": "stdout",
     "output_type": "stream",
     "text": [
      "Best Parameters: {'max_depth': None, 'min_samples_leaf': 2, 'min_samples_split': 2}\n"
     ]
    }
   ],
   "source": [
    "best_params = grid_search.best_params_\n",
    "print(\"Best Parameters:\", best_params)"
   ]
  },
  {
   "cell_type": "code",
   "execution_count": 48,
   "id": "5b02a92a",
   "metadata": {},
   "outputs": [],
   "source": [
    "best_model = grid_search.best_estimator_"
   ]
  },
  {
   "cell_type": "code",
   "execution_count": 50,
   "id": "24eec734",
   "metadata": {},
   "outputs": [],
   "source": [
    "y_pred_dt = best_model.predict(x_test)"
   ]
  },
  {
   "cell_type": "code",
   "execution_count": 52,
   "id": "b38fa8d1",
   "metadata": {},
   "outputs": [
    {
     "name": "stdout",
     "output_type": "stream",
     "text": [
      "Mean Squared Error: 1.4435842935525218\n"
     ]
    }
   ],
   "source": [
    "from sklearn.metrics import mean_squared_error\n",
    "mse = mean_squared_error(y_test, y_pred_dt)\n",
    "print(\"Mean Squared Error:\", mse)"
   ]
  },
  {
   "cell_type": "code",
   "execution_count": 54,
   "id": "7884ca3f",
   "metadata": {},
   "outputs": [
    {
     "data": {
      "text/plain": [
       "56.700986666046695"
      ]
     },
     "execution_count": 54,
     "metadata": {},
     "output_type": "execute_result"
    }
   ],
   "source": [
    "r2score_ = r2_score(y_test, y_pred_dt)\n",
    "r2score_*100"
   ]
  },
  {
   "cell_type": "code",
   "execution_count": null,
   "id": "93b19b8d",
   "metadata": {},
   "outputs": [],
   "source": []
  }
 ],
 "metadata": {
  "kernelspec": {
   "display_name": "Python 3 (ipykernel)",
   "language": "python",
   "name": "python3"
  },
  "language_info": {
   "codemirror_mode": {
    "name": "ipython",
    "version": 3
   },
   "file_extension": ".py",
   "mimetype": "text/x-python",
   "name": "python",
   "nbconvert_exporter": "python",
   "pygments_lexer": "ipython3",
   "version": "3.11.8"
  }
 },
 "nbformat": 4,
 "nbformat_minor": 5
}
